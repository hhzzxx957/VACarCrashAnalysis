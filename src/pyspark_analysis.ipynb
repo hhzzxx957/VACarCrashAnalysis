{
 "cells": [
  {
   "cell_type": "code",
   "execution_count": 2,
   "metadata": {},
   "outputs": [
    {
     "data": {
      "text/html": [
       "Current session configs: <tt>{'name': 'mmlspark', 'conf': {'spark.jars.packages': 'com.microsoft.ml.spark:mmlspark_2.11:1.0.0-rc1', 'spark.jars.repositories': 'https://mmlspark.azureedge.net/maven', 'spark.jars.excludes': 'org.scala-lang:scala-reflect,org.apache.spark:spark-tags_2.11,org.scalactic:scalactic_2.11,org.scalatest:scalatest_2.11', 'spark.pyspark.python': 'python3', 'spark.pyspark.virtualenv.enabled': 'true', 'spark.pyspark.virtualenv.type': 'native', 'spark.pyspark.virtualenv.bin.path': '/usr/bin/virtualenv'}, 'kind': 'pyspark'}</tt><br>"
      ],
      "text/plain": [
       "<IPython.core.display.HTML object>"
      ]
     },
     "metadata": {},
     "output_type": "display_data"
    },
    {
     "data": {
      "text/html": [
       "No active sessions."
      ],
      "text/plain": [
       "<IPython.core.display.HTML object>"
      ]
     },
     "metadata": {},
     "output_type": "display_data"
    }
   ],
   "source": [
    "%%configure -f\n",
    "{ \n",
    "    \"name\": \"mmlspark\",\n",
    "    \"conf\": {\n",
    "        \"spark.jars.packages\": \"com.microsoft.ml.spark:mmlspark_2.11:1.0.0-rc1\",\n",
    "        \"spark.jars.repositories\": \"https://mmlspark.azureedge.net/maven\",\n",
    "        \"spark.jars.excludes\": \"org.scala-lang:scala-reflect,org.apache.spark:spark-tags_2.11,org.scalactic:scalactic_2.11,org.scalatest:scalatest_2.11\",\n",
    "        \"spark.pyspark.python\": \"python3\",\n",
    "        \"spark.pyspark.virtualenv.enabled\": \"true\",\n",
    "        \"spark.pyspark.virtualenv.type\":\"native\",\n",
    "        \"spark.pyspark.virtualenv.bin.path\":\"/usr/bin/virtualenv\"\n",
    "    }\n",
    "}"
   ]
  },
  {
   "cell_type": "code",
   "execution_count": 3,
   "metadata": {},
   "outputs": [
    {
     "data": {
      "application/vnd.jupyter.widget-view+json": {
       "model_id": "62bc4623b3524e4898b003a46a7f6caa",
       "version_major": 2,
       "version_minor": 0
      },
      "text/plain": [
       "VBox()"
      ]
     },
     "metadata": {},
     "output_type": "display_data"
    },
    {
     "name": "stdout",
     "output_type": "stream",
     "text": [
      "Starting Spark application\n"
     ]
    },
    {
     "data": {
      "text/html": [
       "<table>\n",
       "<tr><th>ID</th><th>YARN Application ID</th><th>Kind</th><th>State</th><th>Spark UI</th><th>Driver log</th><th>Current session?</th></tr><tr><td>9</td><td>application_1589294896777_0010</td><td>pyspark</td><td>idle</td><td><a target=\"_blank\" href=\"http://ip-172-31-11-28.ec2.internal:20888/proxy/application_1589294896777_0010/\">Link</a></td><td><a target=\"_blank\" href=\"http://ip-172-31-4-156.ec2.internal:8042/node/containerlogs/container_1589294896777_0010_01_000001/livy\">Link</a></td><td>✔</td></tr></table>"
      ],
      "text/plain": [
       "<IPython.core.display.HTML object>"
      ]
     },
     "metadata": {},
     "output_type": "display_data"
    },
    {
     "data": {
      "application/vnd.jupyter.widget-view+json": {
       "model_id": "",
       "version_major": 2,
       "version_minor": 0
      },
      "text/plain": [
       "FloatProgress(value=0.0, bar_style='info', description='Progress:', layout=Layout(height='25px', width='50%'),…"
      ]
     },
     "metadata": {},
     "output_type": "display_data"
    },
    {
     "name": "stdout",
     "output_type": "stream",
     "text": [
      "SparkSession available as 'spark'.\n"
     ]
    },
    {
     "data": {
      "application/vnd.jupyter.widget-view+json": {
       "model_id": "",
       "version_major": 2,
       "version_minor": 0
      },
      "text/plain": [
       "FloatProgress(value=0.0, bar_style='info', description='Progress:', layout=Layout(height='25px', width='50%'),…"
      ]
     },
     "metadata": {},
     "output_type": "display_data"
    },
    {
     "name": "stdout",
     "output_type": "stream",
     "text": [
      "Collecting matplotlib\n",
      "  Using cached matplotlib-3.2.1-cp36-cp36m-manylinux1_x86_64.whl (12.4 MB)\n",
      "Collecting pyparsing!=2.0.4,!=2.1.2,!=2.1.6,>=2.0.1\n",
      "  Using cached pyparsing-2.4.7-py2.py3-none-any.whl (67 kB)\n",
      "Requirement already satisfied: numpy>=1.11 in /usr/local/lib64/python3.6/site-packages (from matplotlib) (1.14.5)\n",
      "Collecting python-dateutil>=2.1\n",
      "  Using cached python_dateutil-2.8.1-py2.py3-none-any.whl (227 kB)\n",
      "Collecting kiwisolver>=1.0.1\n",
      "  Using cached kiwisolver-1.2.0-cp36-cp36m-manylinux1_x86_64.whl (88 kB)\n",
      "Collecting cycler>=0.10\n",
      "  Using cached cycler-0.10.0-py2.py3-none-any.whl (6.5 kB)\n",
      "Requirement already satisfied: six>=1.5 in /usr/local/lib/python3.6/site-packages (from python-dateutil>=2.1->matplotlib) (1.13.0)\n",
      "Installing collected packages: pyparsing, python-dateutil, kiwisolver, cycler, matplotlib\n",
      "Successfully installed cycler-0.10.0 kiwisolver-1.2.0 matplotlib-3.2.1 pyparsing-2.4.7 python-dateutil-2.8.1"
     ]
    }
   ],
   "source": [
    "# sc.install_pypi_package(\"mmlspark\")\n",
    "sc.install_pypi_package(\"matplotlib\")\n",
    "# sc.install_pypi_package(\"ipympl\")"
   ]
  },
  {
   "cell_type": "code",
   "execution_count": 12,
   "metadata": {},
   "outputs": [
    {
     "data": {
      "application/vnd.jupyter.widget-view+json": {
       "model_id": "20284b84c8b14af2bcf4c3db3cac88a3",
       "version_major": 2,
       "version_minor": 0
      },
      "text/plain": [
       "VBox()"
      ]
     },
     "metadata": {},
     "output_type": "display_data"
    },
    {
     "data": {
      "application/vnd.jupyter.widget-view+json": {
       "model_id": "",
       "version_major": 2,
       "version_minor": 0
      },
      "text/plain": [
       "FloatProgress(value=0.0, bar_style='info', description='Progress:', layout=Layout(height='25px', width='50%'),…"
      ]
     },
     "metadata": {},
     "output_type": "display_data"
    }
   ],
   "source": [
    "from pyspark import SparkContext\n",
    "from pyspark.sql import SparkSession\n",
    "# from pyspark.sql.functions import *\n",
    "import pyspark.sql.functions as F\n",
    "from pyspark.sql.functions import monotonically_increasing_id\n",
    "from pyspark.sql.functions import col\n",
    "from pyspark.sql.functions import round\n",
    "from pyspark.sql.types import StringType\n",
    "from pyspark import SQLContext\n",
    "from itertools import islice\n",
    "\n",
    "from pyspark.ml import Pipeline\n",
    "from pyspark.ml.feature import StringIndexer, OneHotEncoder, VectorAssembler\n",
    "\n",
    "from mmlspark.lightgbm import LightGBMClassifier\n",
    "from pyspark.ml.evaluation import BinaryClassificationEvaluator\n",
    "from pyspark.mllib.evaluation import BinaryClassificationMetrics\n",
    "from pyspark.ml.tuning import CrossValidator, ParamGridBuilder\n",
    "\n",
    "import matplotlib. pyplot as plt\n",
    "#creating the context\n",
    "sqlContext = SQLContext(sc)"
   ]
  },
  {
   "cell_type": "code",
   "execution_count": 5,
   "metadata": {},
   "outputs": [
    {
     "data": {
      "application/vnd.jupyter.widget-view+json": {
       "model_id": "9123c5455de54b8a990f222be434bc2c",
       "version_major": 2,
       "version_minor": 0
      },
      "text/plain": [
       "VBox()"
      ]
     },
     "metadata": {},
     "output_type": "display_data"
    },
    {
     "data": {
      "application/vnd.jupyter.widget-view+json": {
       "model_id": "",
       "version_major": 2,
       "version_minor": 0
      },
      "text/plain": [
       "FloatProgress(value=0.0, bar_style='info', description='Progress:', layout=Layout(height='25px', width='50%'),…"
      ]
     },
     "metadata": {},
     "output_type": "display_data"
    }
   ],
   "source": [
    "class crash_process():\n",
    "    def __init__(self, feats, categorical_columns):\n",
    "        self.feats = feats\n",
    "        self.categorical_columns = categorical_columns\n",
    "        \n",
    "    # One-hot encoding for categorical columns with get_dummies, get binary attributes\n",
    "    def one_hot_encoder(self, df):\n",
    "        # The index of string vlaues multiple columns\n",
    "        indexers = [\n",
    "            StringIndexer(inputCol=c, outputCol=\"{0}_indexed\".format(c))\n",
    "            for c in self.categorical_columns\n",
    "        ]\n",
    "\n",
    "        # The encode of indexed vlaues multiple columns\n",
    "        encoders = [OneHotEncoder(dropLast=False,inputCol=indexer.getOutputCol(),\n",
    "                    outputCol=\"{0}_encoded\".format(indexer.getOutputCol())) \n",
    "            for indexer in indexers\n",
    "        ]\n",
    "\n",
    "        # Vectorizing encoded values\n",
    "        assembler = VectorAssembler(inputCols=[encoder.getOutputCol() for encoder in encoders],outputCol=\"features\")\n",
    "\n",
    "        pipeline = Pipeline(stages=indexers + encoders+[assembler])\n",
    "        model=pipeline.fit(df)\n",
    "        transformed = model.transform(df)\n",
    "        return transformed\n",
    "    \n",
    "    def preprocess(self, path, fraction = 0.8, seed = 110):\n",
    "        # df1 = spark.read.csv(\"s3://vacarcrash/Virginia_Crashes.csv\")\n",
    "        #reading the virginia car crash csv file and store it in an RDD\n",
    "        rdd= sc.textFile(path).map(lambda line: line.split(\",\"))\n",
    "        #removing the first row as it contains the header\n",
    "        rdd = rdd.mapPartitionsWithIndex(\n",
    "        lambda idx, it: islice(it, 1, None) if idx == 0 else it\n",
    "        )\n",
    "\n",
    "        #converting the RDD into a dataframe\n",
    "        df = rdd.toDF(['collision', 'weather', 'vehicles', 'light', 'surface', 'location',\n",
    "               'relation', 'hour', 'second', 'year', 'severity', 'ped_injury',\n",
    "               'ped_fatality', 'total_injury', 'total_fatality', 'work_zone',\n",
    "               'school_zone', 'route', 'district', 'minus', 'index'])\n",
    "        #print the dataframe\n",
    "        df = df.withColumn('hour', (round(df['hour']).astype('int')))\n",
    "        \n",
    "        # select features to be used\n",
    "        df = df[self.feats]\n",
    "        df = df[~(df['severity']== 5)]\n",
    "        \n",
    "        # convert severity to fatality\n",
    "        exprs = [F.when(F.col('severity') == 1,1).otherwise(0).alias('fatality')]\n",
    "        df = df.select(exprs+df.columns)\n",
    "        df = self.one_hot_encoder(df)\n",
    "        df.printSchema()\n",
    "        \n",
    "        #sample 20% dataset as test dataset\n",
    "        (train_df, test_df) = df.randomSplit([0.8, 0.2])\n",
    "        return [train_df, test_df]"
   ]
  },
  {
   "cell_type": "code",
   "execution_count": 6,
   "metadata": {},
   "outputs": [
    {
     "data": {
      "application/vnd.jupyter.widget-view+json": {
       "model_id": "5cf066ef59c74f5d96504be63da4e941",
       "version_major": 2,
       "version_minor": 0
      },
      "text/plain": [
       "VBox()"
      ]
     },
     "metadata": {},
     "output_type": "display_data"
    },
    {
     "data": {
      "application/vnd.jupyter.widget-view+json": {
       "model_id": "",
       "version_major": 2,
       "version_minor": 0
      },
      "text/plain": [
       "FloatProgress(value=0.0, bar_style='info', description='Progress:', layout=Layout(height='25px', width='50%'),…"
      ]
     },
     "metadata": {},
     "output_type": "display_data"
    },
    {
     "name": "stdout",
     "output_type": "stream",
     "text": [
      "root\n",
      " |-- fatality: integer (nullable = false)\n",
      " |-- weather: string (nullable = true)\n",
      " |-- light: string (nullable = true)\n",
      " |-- surface: string (nullable = true)\n",
      " |-- location: string (nullable = true)\n",
      " |-- hour: integer (nullable = true)\n",
      " |-- severity: string (nullable = true)\n",
      " |-- school_zone: string (nullable = true)\n",
      " |-- route: string (nullable = true)\n",
      " |-- index: string (nullable = true)\n",
      " |-- weather_indexed: double (nullable = false)\n",
      " |-- light_indexed: double (nullable = false)\n",
      " |-- surface_indexed: double (nullable = false)\n",
      " |-- school_zone_indexed: double (nullable = false)\n",
      " |-- route_indexed: double (nullable = false)\n",
      " |-- location_indexed: double (nullable = false)\n",
      " |-- weather_indexed_encoded: vector (nullable = true)\n",
      " |-- light_indexed_encoded: vector (nullable = true)\n",
      " |-- surface_indexed_encoded: vector (nullable = true)\n",
      " |-- school_zone_indexed_encoded: vector (nullable = true)\n",
      " |-- route_indexed_encoded: vector (nullable = true)\n",
      " |-- location_indexed_encoded: vector (nullable = true)\n",
      " |-- features: vector (nullable = true)"
     ]
    }
   ],
   "source": [
    "## run preprocess\n",
    "feats = ['weather', 'light', 'surface','location','hour', 'severity', 'school_zone', 'route','index']\n",
    "categorical_column = ['weather', 'light', 'surface','school_zone', 'route', 'location']\n",
    "path = \"s3://vacarcrash/\"\n",
    "\n",
    "cr = crash_process(feats, categorical_column)\n",
    "train_df, test_df = cr.preprocess(path + 'Virginia_Crashes.csv')"
   ]
  },
  {
   "cell_type": "code",
   "execution_count": 7,
   "metadata": {},
   "outputs": [
    {
     "data": {
      "application/vnd.jupyter.widget-view+json": {
       "model_id": "3c5cfe901096462cb057bb69a7173061",
       "version_major": 2,
       "version_minor": 0
      },
      "text/plain": [
       "VBox()"
      ]
     },
     "metadata": {},
     "output_type": "display_data"
    },
    {
     "data": {
      "application/vnd.jupyter.widget-view+json": {
       "model_id": "",
       "version_major": 2,
       "version_minor": 0
      },
      "text/plain": [
       "FloatProgress(value=0.0, bar_style='info', description='Progress:', layout=Layout(height='25px', width='50%'),…"
      ]
     },
     "metadata": {},
     "output_type": "display_data"
    }
   ],
   "source": [
    "def lgbm_vacarcrash(feature, label, learningRate=0.1,numIterations=1000,earlyStoppingRound=10):\n",
    "    lgb_estimator = LightGBMClassifier(learningRate=learningRate, \n",
    "                                       numIterations=numIterations,\n",
    "                                       earlyStoppingRound=earlyStoppingRound,\n",
    "                                       labelCol = label)\n",
    "    \n",
    "    paramGrid = ParamGridBuilder().addGrid(lgb_estimator.numLeaves, [30, 50]).build()\n",
    "    eval = BinaryClassificationEvaluator(labelCol = label, metricName=\"areaUnderROC\")\n",
    "    crossval = CrossValidator(estimator=lgb_estimator,\n",
    "                              estimatorParamMaps=paramGrid, \n",
    "                              evaluator=eval, \n",
    "                              numFolds=3)\n",
    "    cvModel  = crossval.fit(train_df[[feature, label]])\n",
    "    return cvModel, paramGrid"
   ]
  },
  {
   "cell_type": "code",
   "execution_count": 8,
   "metadata": {},
   "outputs": [
    {
     "data": {
      "application/vnd.jupyter.widget-view+json": {
       "model_id": "9b284ab499d04b7eb4865eae2a14ba06",
       "version_major": 2,
       "version_minor": 0
      },
      "text/plain": [
       "VBox()"
      ]
     },
     "metadata": {},
     "output_type": "display_data"
    },
    {
     "data": {
      "application/vnd.jupyter.widget-view+json": {
       "model_id": "",
       "version_major": 2,
       "version_minor": 0
      },
      "text/plain": [
       "FloatProgress(value=0.0, bar_style='info', description='Progress:', layout=Layout(height='25px', width='50%'),…"
      ]
     },
     "metadata": {},
     "output_type": "display_data"
    }
   ],
   "source": [
    "(cvModel, paramGrid) = lgbm_vacarcrash(\"features\", \"fatality\")"
   ]
  },
  {
   "cell_type": "code",
   "execution_count": 9,
   "metadata": {},
   "outputs": [
    {
     "data": {
      "application/vnd.jupyter.widget-view+json": {
       "model_id": "9e6c14ae00aa4934b2801a91ad1ffff6",
       "version_major": 2,
       "version_minor": 0
      },
      "text/plain": [
       "VBox()"
      ]
     },
     "metadata": {},
     "output_type": "display_data"
    },
    {
     "data": {
      "application/vnd.jupyter.widget-view+json": {
       "model_id": "",
       "version_major": 2,
       "version_minor": 0
      },
      "text/plain": [
       "FloatProgress(value=0.0, bar_style='info', description='Progress:', layout=Layout(height='25px', width='50%'),…"
      ]
     },
     "metadata": {},
     "output_type": "display_data"
    },
    {
     "name": "stdout",
     "output_type": "stream",
     "text": [
      "[(0.6705857966263649, {Param(parent='LightGBMClassifier_1ba142a0baaf', name='numLeaves', doc='numLeaves: Number of leaves (default: 31)'): 30}), (0.6695266895942336, {Param(parent='LightGBMClassifier_1ba142a0baaf', name='numLeaves', doc='numLeaves: Number of leaves (default: 31)'): 50})]"
     ]
    }
   ],
   "source": [
    "print(list(zip(cvModel.avgMetrics, paramGrid)))"
   ]
  },
  {
   "cell_type": "code",
   "execution_count": 10,
   "metadata": {},
   "outputs": [
    {
     "data": {
      "application/vnd.jupyter.widget-view+json": {
       "model_id": "3c126dcfac5c4ea08c1343fe4aac09d3",
       "version_major": 2,
       "version_minor": 0
      },
      "text/plain": [
       "VBox()"
      ]
     },
     "metadata": {},
     "output_type": "display_data"
    },
    {
     "data": {
      "application/vnd.jupyter.widget-view+json": {
       "model_id": "",
       "version_major": 2,
       "version_minor": 0
      },
      "text/plain": [
       "FloatProgress(value=0.0, bar_style='info', description='Progress:', layout=Layout(height='25px', width='50%'),…"
      ]
     },
     "metadata": {},
     "output_type": "display_data"
    }
   ],
   "source": [
    "class CurveMetrics(BinaryClassificationMetrics):\n",
    "    def __init__(self, *args):\n",
    "        super(CurveMetrics, self).__init__(*args)\n",
    "\n",
    "    def _to_list(self, rdd):\n",
    "        points = []\n",
    "        # Note this collect could be inefficient for large datasets \n",
    "        # considering there may be one probability per datapoint (at most)\n",
    "        # The Scala version takes a numBins parameter, \n",
    "        # but it doesn't seem possible to pass this from Python to Java\n",
    "        for row in rdd.collect():\n",
    "            # Results are returned as type scala.Tuple2, \n",
    "            # which doesn't appear to have a py4j mapping\n",
    "            points += [(float(row._1()), float(row._2()))]\n",
    "        return points\n",
    "\n",
    "    def get_curve(self, method):\n",
    "        rdd = getattr(self._java_model, method)().toJavaRDD()\n",
    "        return self._to_list(rdd)\n",
    "\n",
    "bestModel = cvModel.bestModel\n",
    "predictions = bestModel.transform(test_df)\n",
    "\n",
    "# Returns as a list (false positive rate, true positive rate)\n",
    "preds = predictions.select('fatality','probability').rdd.map(lambda row: (float(row['probability'][1]), float(row['fatality'])))\n",
    "points = CurveMetrics(preds).get_curve('roc')"
   ]
  },
  {
   "cell_type": "code",
   "execution_count": 21,
   "metadata": {},
   "outputs": [
    {
     "data": {
      "application/vnd.jupyter.widget-view+json": {
       "model_id": "e1cfe45a7c5e4742ab1e0f441ec78d2c",
       "version_major": 2,
       "version_minor": 0
      },
      "text/plain": [
       "VBox()"
      ]
     },
     "metadata": {},
     "output_type": "display_data"
    },
    {
     "data": {
      "application/vnd.jupyter.widget-view+json": {
       "model_id": "",
       "version_major": 2,
       "version_minor": 0
      },
      "text/plain": [
       "FloatProgress(value=0.0, bar_style='info', description='Progress:', layout=Layout(height='25px', width='50%'),…"
      ]
     },
     "metadata": {},
     "output_type": "display_data"
    }
   ],
   "source": [
    "fig = plt.figure()\n",
    "x_val = [x[0] for x in points]\n",
    "y_val = [x[1] for x in points]\n",
    "plt.title(\"ROC AUC\")\n",
    "plt.xlabel(\"FPR\")\n",
    "plt.ylabel(\"TPR\")\n",
    "plt.plot(x_val, y_val)\n",
    "plt.show()"
   ]
  },
  {
   "cell_type": "code",
   "execution_count": 32,
   "metadata": {},
   "outputs": [
    {
     "data": {
      "application/vnd.jupyter.widget-view+json": {
       "model_id": "12c53f8d0a5240348d27a33f023ae684",
       "version_major": 2,
       "version_minor": 0
      },
      "text/plain": [
       "VBox()"
      ]
     },
     "metadata": {},
     "output_type": "display_data"
    },
    {
     "data": {
      "application/vnd.jupyter.widget-view+json": {
       "model_id": "",
       "version_major": 2,
       "version_minor": 0
      },
      "text/plain": [
       "FloatProgress(value=0.0, bar_style='info', description='Progress:', layout=Layout(height='25px', width='50%'),…"
      ]
     },
     "metadata": {},
     "output_type": "display_data"
    },
    {
     "name": "stdout",
     "output_type": "stream",
     "text": [
      "{'ResponseMetadata': {'RequestId': 'FA5F196B4DC29B84', 'HostId': 'TrcGcC9Ls5aMZvIy4SNcCv8EPKutUXvM3NdzYvZ/c/CejH4aXDAfCbGUExIjWotjbNoMwmPx3R0=', 'HTTPStatusCode': 200, 'HTTPHeaders': {'x-amz-id-2': 'TrcGcC9Ls5aMZvIy4SNcCv8EPKutUXvM3NdzYvZ/c/CejH4aXDAfCbGUExIjWotjbNoMwmPx3R0=', 'x-amz-request-id': 'FA5F196B4DC29B84', 'date': 'Tue, 12 May 2020 22:27:00 GMT', 'etag': '\"823b6805475c56c022caa4828caa3f11\"', 'content-length': '0', 'server': 'AmazonS3'}, 'RetryAttempts': 0}, 'ETag': '\"823b6805475c56c022caa4828caa3f11\"'}"
     ]
    }
   ],
   "source": [
    "import boto3\n",
    "import json\n",
    "s3 = boto3.resource('s3')\n",
    "bucket_name = 'vacarcrash'\n",
    "file_name = 'points'\n",
    "object = s3.Object(bucket_name, file_name)\n",
    "object.put(Body=(bytes(json.dumps(points, indent=2).encode('UTF-8'))))"
   ]
  },
  {
   "cell_type": "code",
   "execution_count": null,
   "metadata": {},
   "outputs": [],
   "source": []
  }
 ],
 "metadata": {
  "kernelspec": {
   "display_name": "PySpark",
   "language": "",
   "name": "pysparkkernel"
  },
  "language_info": {
   "codemirror_mode": {
    "name": "python",
    "version": 2
   },
   "mimetype": "text/x-python",
   "name": "pyspark",
   "pygments_lexer": "python2"
  }
 },
 "nbformat": 4,
 "nbformat_minor": 4
}
